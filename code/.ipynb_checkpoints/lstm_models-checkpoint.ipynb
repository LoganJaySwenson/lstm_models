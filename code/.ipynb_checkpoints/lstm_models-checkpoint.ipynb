{
 "cells": [
  {
   "cell_type": "code",
   "execution_count": 1,
   "id": "2f633dba",
   "metadata": {},
   "outputs": [],
   "source": [
    "# Import core libraries\n",
    "import os \n",
    "import numpy as np\n",
    "import matplotlib.pyplot as plt"
   ]
  },
  {
   "cell_type": "code",
   "execution_count": 2,
   "id": "0ed4bfd9",
   "metadata": {},
   "outputs": [
    {
     "name": "stdout",
     "output_type": "stream",
     "text": [
      "loading package hydroDL\n"
     ]
    }
   ],
   "source": [
    "from hydroDL.master.master import loadModel\n",
    "from hydroDL.model.crit import RmseLoss\n",
    "from hydroDL.model.rnn import CudnnLstmModel as LSTM\n",
    "from hydroDL.model.rnn import CpuLstmModel as LSTM_CPU\n",
    "from hydroDL.model.train import trainModel\n",
    "from hydroDL.model.test import testModel\n",
    "from hydroDL.post.stat import statError as cal_metric\n",
    "from hydroDL.data.load_csv import LoadCSV\n",
    "from hydroDL.utils.norm import re_folder, trans_norm"
   ]
  }
 ],
 "metadata": {
  "kernelspec": {
   "display_name": "Python 3 (ipykernel)",
   "language": "python",
   "name": "python3"
  },
  "language_info": {
   "codemirror_mode": {
    "name": "ipython",
    "version": 3
   },
   "file_extension": ".py",
   "mimetype": "text/x-python",
   "name": "python",
   "nbconvert_exporter": "python",
   "pygments_lexer": "ipython3",
   "version": "3.7.12"
  }
 },
 "nbformat": 4,
 "nbformat_minor": 5
}
